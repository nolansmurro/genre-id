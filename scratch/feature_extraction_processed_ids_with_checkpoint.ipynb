{
 "cells": [
  {
   "cell_type": "code",
   "execution_count": 1,
   "id": "9383e54e-8007-4bb9-8cf9-51ea03b092c6",
   "metadata": {
    "tags": []
   },
   "outputs": [],
   "source": [
    "import librosa\n",
    "import numpy as np\n",
    "import os\n",
    "import csv\n",
    "import time"
   ]
  },
  {
   "cell_type": "code",
   "execution_count": 2,
   "id": "d9f30b50-7925-42a3-913b-aa914a92079c",
   "metadata": {
    "tags": []
   },
   "outputs": [],
   "source": [
    "def save_checkpoint(filename, checkpoint):\n",
    "    with open(filename, 'w') as f:\n",
    "        f.write(checkpoint)"
   ]
  },
  {
   "cell_type": "code",
   "execution_count": 3,
   "id": "89813b1f-8fb2-41a4-b6ea-8123f910fea5",
   "metadata": {
    "tags": []
   },
   "outputs": [],
   "source": [
    "def get_processed_song_ids(csv_file):\n",
    "    processed_song_ids = set()\n",
    "    if os.path.exists(csv_file):\n",
    "        with open(csv_file, 'r', newline='') as csvfile:\n",
    "            reader = csv.DictReader(csvfile)\n",
    "            for row in reader:\n",
    "                processed_song_ids.add(row['song_id'])\n",
    "    return processed_song_ids"
   ]
  },
  {
   "cell_type": "code",
   "execution_count": 4,
   "id": "d99a1c68-dbcc-473d-93cb-ce8edc19d3d9",
   "metadata": {
    "tags": []
   },
   "outputs": [],
   "source": [
    "def extract_features(song_path, song_id):\n",
    "    y, sr = librosa.load(song_path)\n",
    "    \n",
    "    chroma_stft = librosa.feature.chroma_stft(y=y, sr=sr) #pitch\n",
    "    mfccs = librosa.feature.mfcc(y=y, sr=sr) #spectral charecteristics and timbral information\n",
    "    spectral_centroid = librosa.feature.spectral_centroid(y=y, sr=sr) #spectrum center of mass\n",
    "    spectral_bandwidth = librosa.feature.spectral_bandwidth(y=y, sr=sr) #width of spectral envelope\n",
    "    spectral_contrast = librosa.feature.spectral_contrast(y=y, sr=sr) #spectral texture, difference in amplitude between peaks and valleys in the spectrum\n",
    "    tonnetz = librosa.feature.tonnetz(y=y, sr=sr) #tonal content and harmonic relationships\n",
    "    rms = librosa.feature.rms(y=y) #energy of the signal\n",
    "    spectral_rolloff = librosa.feature.spectral_rolloff(y=y, sr=sr) #frequency below which a certain percentage of the total spectral energy lies\n",
    "    zero_crossing_rate = librosa.feature.zero_crossing_rate(y) #rate of changes in the signal\n",
    "    tempo, beat_frames = librosa.beat.beat_track(y=y, sr=sr)\n",
    "    \n",
    "    beat_histogram = np.histogram(beat_frames, bins=len(y))\n",
    "    \n",
    "    features = {\n",
    "        'song_id': song_id,\n",
    "        'chroma_stft_mean': np.mean(chroma_stft),\n",
    "        'chroma_stft_var': np.var(chroma_stft),\n",
    "        'mfccs_mean': np.mean(mfccs),\n",
    "        'mfccs_var': np.var(mfccs),\n",
    "        'spectral_centroid_mean': np.mean(spectral_centroid),\n",
    "        'spectral_centroid_var': np.var(spectral_centroid),\n",
    "        'spectral_bandwidth_mean': np.mean(spectral_bandwidth),\n",
    "        'spectral_bandwidth_var': np.var(spectral_bandwidth),\n",
    "        'spectral_contrast_mean': np.mean(spectral_contrast),\n",
    "        'spectral_contrast_var': np.var(spectral_contrast),\n",
    "        'tonnetz_mean': np.mean(tonnetz),\n",
    "        'tonnetz_var': np.var(tonnetz),\n",
    "        'rms_mean': np.mean(rms),\n",
    "        'rms_var': np.var(rms),\n",
    "        'spectral_rolloff_mean': np.mean(spectral_rolloff),\n",
    "        'spectral_rolloff_var': np.var(spectral_rolloff),\n",
    "        'zero_crossing_rate_mean': np.mean(zero_crossing_rate),\n",
    "        'zero_crossing_rate_var': np.var(zero_crossing_rate),\n",
    "        'tempo': tempo,\n",
    "        'beat_histogram': beat_histogram[0]\n",
    "    }\n",
    "\n",
    "    return features"
   ]
  },
  {
   "cell_type": "code",
   "execution_count": 5,
   "id": "54eb1a18-5170-437b-9f90-1e56501fed36",
   "metadata": {
    "tags": []
   },
   "outputs": [],
   "source": [
    "def process_files(audio_dir, output_csv, checkpoint_file):\n",
    "    processed_song_ids = get_processed_song_ids(output_csv)\n",
    "    \n",
    "    if os.path.exists(checkpoint_file):\n",
    "        with open(checkpoint_file, 'r') as f:\n",
    "            last_processed_file = f.readline().strip()\n",
    "    else:\n",
    "        last_processed_file = None\n",
    "\n",
    "    with open(output_csv, 'a', newline='') as csvfile:\n",
    "        feature_names = [\n",
    "            'song_id', \n",
    "            'chroma_stft_mean', 'chroma_stft_var',\n",
    "            'mfccs_mean', 'mfccs_var',\n",
    "            'spectral_centroid_mean', 'spectral_centroid_var',\n",
    "            'spectral_bandwidth_mean', 'spectral_bandwidth_var',\n",
    "            'spectral_contrast_mean', 'spectral_contrast_var',\n",
    "            'tonnetz_mean', 'tonnetz_var',\n",
    "            'rms_mean', 'rms_var',\n",
    "            'spectral_rolloff_mean', 'spectral_rolloff_var',\n",
    "            'zero_crossing_rate_mean', 'zero_crossing_rate_var',\n",
    "            'tempo', 'beat_histogram'\n",
    "        ]\n",
    "        writer = csv.DictWriter(csvfile, fieldnames=feature_names)\n",
    "        if os.stat(output_csv).st_size == 0:\n",
    "            writer.writeheader()\n",
    "        \n",
    "        for root, dirs, files in os.walk(audio_dir):\n",
    "            for file in files:\n",
    "                if file.endswith(\".mp3\"):\n",
    "                    if last_processed_file and file <= last_processed_file:\n",
    "                        continue\n",
    "\n",
    "                    song_path = os.path.join(root, file)\n",
    "                    song_id = os.path.splitext(os.path.basename(file))[0]\n",
    "                    if song_id not in processed_song_ids:\n",
    "                        try:\n",
    "                            features = extract_features(song_path, song_id)\n",
    "                            writer.writerow(features)\n",
    "                            processed_song_ids.add(song_id)\n",
    "                        except (librosa.util.exceptions.ParameterError, ValueError) as e:\n",
    "                            print(f\"Error processing {song_path}: {e}\")\n",
    "                    \n",
    "                    with open(checkpoint_file, 'w') as f:\n",
    "                        f.write(file)"
   ]
  },
  {
   "cell_type": "code",
   "execution_count": null,
   "id": "93c47c65-2447-41d5-a39f-f70ff191be7c",
   "metadata": {
    "tags": []
   },
   "outputs": [
    {
     "name": "stderr",
     "output_type": "stream",
     "text": [
      "/Users/nolan/anaconda3/lib/python3.11/site-packages/librosa/core/spectrum.py:257: UserWarning: n_fft=2048 is too large for input signal of length=0\n",
      "  warnings.warn(\n",
      "/Users/nolan/anaconda3/lib/python3.11/site-packages/librosa/core/pitch.py:101: UserWarning: Trying to estimate tuning from empty frequency set.\n",
      "  return pitch_tuning(\n",
      "/Users/nolan/anaconda3/lib/python3.11/site-packages/librosa/core/spectrum.py:257: UserWarning: n_fft=1024 is too large for input signal of length=0\n",
      "  warnings.warn(\n"
     ]
    },
    {
     "name": "stdout",
     "output_type": "stream",
     "text": [
      "Error processing /Volumes/Elemental/genre-id/songs/afro-cuban_percussion_44.mp3: can't extend empty axis 0 using modes other than 'constant' or 'empty'\n"
     ]
    }
   ],
   "source": [
    "audio_dir = '/Volumes/Elemental/genre-id/songs/'\n",
    "output_csv = 'features.csv'\n",
    "checkpoint_file = 'checkpoint.csv'\n",
    "process_files(audio_dir, output_csv, checkpoint_file)"
   ]
  }
 ],
 "metadata": {
  "kernelspec": {
   "display_name": "Python 3 (ipykernel)",
   "language": "python",
   "name": "python3"
  },
  "language_info": {
   "codemirror_mode": {
    "name": "ipython",
    "version": 3
   },
   "file_extension": ".py",
   "mimetype": "text/x-python",
   "name": "python",
   "nbconvert_exporter": "python",
   "pygments_lexer": "ipython3",
   "version": "3.11.5"
  }
 },
 "nbformat": 4,
 "nbformat_minor": 5
}
