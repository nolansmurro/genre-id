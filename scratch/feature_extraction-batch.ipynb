{
 "cells": [
  {
   "cell_type": "code",
   "execution_count": 9,
   "id": "9383e54e-8007-4bb9-8cf9-51ea03b092c6",
   "metadata": {
    "tags": []
   },
   "outputs": [],
   "source": [
    "import librosa\n",
    "import numpy as np\n",
    "import os\n",
    "import glob\n",
    "import multiprocessing\n",
    "import csv\n",
    "import time"
   ]
  },
  {
   "cell_type": "code",
   "execution_count": 10,
   "id": "89813b1f-8fb2-41a4-b6ea-8123f910fea5",
   "metadata": {
    "tags": []
   },
   "outputs": [],
   "source": [
    "def get_processed_song_ids(csv_file):\n",
    "    processed_song_ids = set()\n",
    "    if os.path.exists(csv_file):\n",
    "        with open(csv_file, 'r', newline='') as csvfile:\n",
    "            reader = csv.DictReader(csvfile)\n",
    "            for row in reader:\n",
    "                processed_song_ids.add(row['song_id'])\n",
    "    return processed_song_ids"
   ]
  },
  {
   "cell_type": "code",
   "execution_count": 11,
   "id": "d99a1c68-dbcc-473d-93cb-ce8edc19d3d9",
   "metadata": {
    "tags": []
   },
   "outputs": [],
   "source": [
    "def extract_features(song_path, song_id):\n",
    "    y, sr = librosa.load(song_path)\n",
    "    \n",
    "    chroma_stft = librosa.feature.chroma_stft(y=y, sr=sr) #pitch\n",
    "    mfccs = librosa.feature.mfcc(y=y, sr=sr) #spectral charecteristics and timbral information\n",
    "    spectral_centroid = librosa.feature.spectral_centroid(y=y, sr=sr) #spectrum center of mass\n",
    "    spectral_bandwidth = librosa.feature.spectral_bandwidth(y=y, sr=sr) #width of spectral envelope\n",
    "    spectral_contrast = librosa.feature.spectral_contrast(y=y, sr=sr) #spectral texture, difference in amplitude between peaks and valleys in the spectrum\n",
    "    tonnetz = librosa.feature.tonnetz(y=y, sr=sr) #tonal content and harmonic relationships\n",
    "    rms = librosa.feature.rms(y=y) #energy of the signal\n",
    "    spectral_rolloff = librosa.feature.spectral_rolloff(y=y, sr=sr) #frequency below which a certain percentage of the total spectral energy lies\n",
    "    zero_crossing_rate = librosa.feature.zero_crossing_rate(y) #rate of changes in the signal\n",
    "    tempo, beat_frames = librosa.beat.beat_track(y=y, sr=sr)\n",
    "    \n",
    "    beat_histogram = np.histogram(beat_frames, bins=len(y))\n",
    "    \n",
    "    features = {\n",
    "        'song_id': song_id,\n",
    "        'chroma_stft_mean': np.mean(chroma_stft),\n",
    "        'chroma_stft_var': np.var(chroma_stft),\n",
    "        'mfccs_mean': np.mean(mfccs),\n",
    "        'mfccs_var': np.var(mfccs),\n",
    "        'spectral_centroid_mean': np.mean(spectral_centroid),\n",
    "        'spectral_centroid_var': np.var(spectral_centroid),\n",
    "        'spectral_bandwidth_mean': np.mean(spectral_bandwidth),\n",
    "        'spectral_bandwidth_var': np.var(spectral_bandwidth),\n",
    "        'spectral_contrast_mean': np.mean(spectral_contrast),\n",
    "        'spectral_contrast_var': np.var(spectral_contrast),\n",
    "        'tonnetz_mean': np.mean(tonnetz),\n",
    "        'tonnetz_var': np.var(tonnetz),\n",
    "        'rms_mean': np.mean(rms),\n",
    "        'rms_var': np.var(rms),\n",
    "        'spectral_rolloff_mean': np.mean(spectral_rolloff),\n",
    "        'spectral_rolloff_var': np.var(spectral_rolloff),\n",
    "        'zero_crossing_rate_mean': np.mean(zero_crossing_rate),\n",
    "        'zero_crossing_rate_var': np.var(zero_crossing_rate),\n",
    "        'tempo': tempo,\n",
    "        'beat_histogram': beat_histogram[0]\n",
    "    }\n",
    "\n",
    "    return features"
   ]
  },
  {
   "cell_type": "code",
   "execution_count": 12,
   "id": "54eb1a18-5170-437b-9f90-1e56501fed36",
   "metadata": {
    "tags": []
   },
   "outputs": [],
   "source": [
    "# def process_files(files, output_csv, processed_song_ids):\n",
    "#     feature_names = [\n",
    "#         'song_id', \n",
    "#         'chroma_stft_mean', 'chroma_stft_var',\n",
    "#         'mfccs_mean', 'mfccs_var',\n",
    "#         'spectral_centroid_mean', 'spectral_centroid_var',\n",
    "#         'spectral_bandwidth_mean', 'spectral_bandwidth_var',\n",
    "#         'spectral_contrast_mean', 'spectral_contrast_var',\n",
    "#         'tonnetz_mean', 'tonnetz_var',\n",
    "#         'rms_mean', 'rms_var',\n",
    "#         'spectral_rolloff_mean', 'spectral_rolloff_var',\n",
    "#         'zero_crossing_rate_mean', 'zero_crossing_rate_var',\n",
    "#         'tempo', 'beat_histogram'\n",
    "#     ]\n",
    "#     with open(output_csv, 'a', newline='') as csvfile:\n",
    "#         writer = csv.DictWriter(csvfile, fieldnames=feature_names)\n",
    "#         if os.stat(output_csv).st_size == 0:\n",
    "#             writer.writeheader()\n",
    "#         for file in files:\n",
    "#             song_id = os.path.splitext(os.path.basename(file))[0]\n",
    "#             if song_id not in processed_song_ids:\n",
    "#                 features = extract_features(file, song_id)\n",
    "#                 writer.writerow(features)\n",
    "#                 processed_song_ids.add(song_id)"
   ]
  },
  {
   "cell_type": "code",
   "execution_count": 13,
   "id": "69991852-df5f-48a9-b74f-be67a04b7a11",
   "metadata": {
    "tags": []
   },
   "outputs": [],
   "source": [
    "def process_files(files, output_csv, processed_song_ids):\n",
    "    feature_names = [\n",
    "        'song_id', \n",
    "        'chroma_stft_mean', 'chroma_stft_var',\n",
    "        'mfccs_mean', 'mfccs_var',\n",
    "        'spectral_centroid_mean', 'spectral_centroid_var',\n",
    "        'spectral_bandwidth_mean', 'spectral_bandwidth_var',\n",
    "        'spectral_contrast_mean', 'spectral_contrast_var',\n",
    "        'tonnetz_mean', 'tonnetz_var',\n",
    "        'rms_mean', 'rms_var',\n",
    "        'spectral_rolloff_mean', 'spectral_rolloff_var',\n",
    "        'zero_crossing_rate_mean', 'zero_crossing_rate_var',\n",
    "        'tempo', 'beat_histogram'\n",
    "    ]\n",
    "    with open(output_csv, 'a', newline='') as csvfile:\n",
    "        writer = csv.DictWriter(csvfile, fieldnames=feature_names)\n",
    "        if os.stat(output_csv).st_size == 0:\n",
    "            writer.writeheader()\n",
    "            \n",
    "        for file in files:\n",
    "            song_id = os.path.splitext(os.path.basename(file))[0]\n",
    "            if song_id not in processed_song_ids:\n",
    "                features = extract_features(file, song_id)\n",
    "                writer.writerow(features)\n",
    "                processed_song_ids.add(song_id)"
   ]
  },
  {
   "cell_type": "code",
   "execution_count": 15,
   "id": "2317cedb-66ed-4876-ad0f-dc55a6bddfd3",
   "metadata": {
    "tags": []
   },
   "outputs": [],
   "source": [
    "# def batch_process(audio_dir, output_csv, num_cores):\n",
    "#     processed_song_ids = get_processed_song_ids(output_csv)\n",
    "#     audio_files = glob.glob(os.path.join(audio_dir, '*.mp3'))\n",
    "    \n",
    "    \n",
    "#     batch_size = 1000\n",
    "#     batches = [audio_files[i:i+batch_size] for i in range(0, len(audio_files), batch_size)]\n",
    "    \n",
    "#     with multiprocessing.Pool(processes=num_cores) as pool:\n",
    "#         pool.map(process_files, [(batch, output_csv, processed_song_ids) for batch in batches])"
   ]
  },
  {
   "cell_type": "code",
   "execution_count": 19,
   "id": "9917f618-2834-41fa-aa6e-10870cc28cbd",
   "metadata": {
    "tags": []
   },
   "outputs": [],
   "source": [
    "def batch_process(audio_dir, output_csv):\n",
    "    processed_song_ids = get_processed_song_ids(output_csv)\n",
    "    audio_files = glob.glob(os.path.join(audio_dir, '*.mp3'))\n",
    "    \n",
    "    \n",
    "    batch_size = 1000\n",
    "    for i in range(0, len(audio_files), batch_size):\n",
    "        batch_files = audio_files[i:i+batch_size]\n",
    "        process_files(batch_files, output_csv, processed_song_ids)"
   ]
  },
  {
   "cell_type": "code",
   "execution_count": 17,
   "id": "c8498f2a-c411-4ce2-b949-77d9656f5609",
   "metadata": {
    "tags": []
   },
   "outputs": [
    {
     "ename": "KeyboardInterrupt",
     "evalue": "",
     "output_type": "error",
     "traceback": [
      "\u001b[0;31m---------------------------------------------------------------------------\u001b[0m",
      "\u001b[0;31mKeyboardInterrupt\u001b[0m                         Traceback (most recent call last)",
      "Cell \u001b[0;32mIn[17], line 5\u001b[0m\n\u001b[1;32m      3\u001b[0m output_csv \u001b[38;5;241m=\u001b[39m \u001b[38;5;124m'\u001b[39m\u001b[38;5;124mfeatures.csv\u001b[39m\u001b[38;5;124m'\u001b[39m\n\u001b[1;32m      4\u001b[0m num_cores \u001b[38;5;241m=\u001b[39m \u001b[38;5;241m2\u001b[39m\n\u001b[0;32m----> 5\u001b[0m batch_process(audio_dir, output_csv, num_cores)\n",
      "Cell \u001b[0;32mIn[16], line 3\u001b[0m, in \u001b[0;36mbatch_process\u001b[0;34m(audio_dir, output_csv, num_cores)\u001b[0m\n\u001b[1;32m      1\u001b[0m \u001b[38;5;28;01mdef\u001b[39;00m \u001b[38;5;21mbatch_process\u001b[39m(audio_dir, output_csv, num_cores):\n\u001b[1;32m      2\u001b[0m     processed_song_ids \u001b[38;5;241m=\u001b[39m get_processed_song_ids(output_csv)\n\u001b[0;32m----> 3\u001b[0m     audio_files \u001b[38;5;241m=\u001b[39m glob\u001b[38;5;241m.\u001b[39mglob(os\u001b[38;5;241m.\u001b[39mpath\u001b[38;5;241m.\u001b[39mjoin(audio_dir, \u001b[38;5;124m'\u001b[39m\u001b[38;5;124m*.mp3\u001b[39m\u001b[38;5;124m'\u001b[39m))\n\u001b[1;32m      6\u001b[0m     batch_size \u001b[38;5;241m=\u001b[39m \u001b[38;5;241m1000\u001b[39m\n\u001b[1;32m      7\u001b[0m     \u001b[38;5;28;01mfor\u001b[39;00m i \u001b[38;5;129;01min\u001b[39;00m \u001b[38;5;28mrange\u001b[39m(\u001b[38;5;241m0\u001b[39m, \u001b[38;5;28mlen\u001b[39m(audio_files), batch_size):\n",
      "File \u001b[0;32m~/anaconda3/lib/python3.11/glob.py:28\u001b[0m, in \u001b[0;36mglob\u001b[0;34m(pathname, root_dir, dir_fd, recursive, include_hidden)\u001b[0m\n\u001b[1;32m     13\u001b[0m \u001b[38;5;28;01mdef\u001b[39;00m \u001b[38;5;21mglob\u001b[39m(pathname, \u001b[38;5;241m*\u001b[39m, root_dir\u001b[38;5;241m=\u001b[39m\u001b[38;5;28;01mNone\u001b[39;00m, dir_fd\u001b[38;5;241m=\u001b[39m\u001b[38;5;28;01mNone\u001b[39;00m, recursive\u001b[38;5;241m=\u001b[39m\u001b[38;5;28;01mFalse\u001b[39;00m,\n\u001b[1;32m     14\u001b[0m         include_hidden\u001b[38;5;241m=\u001b[39m\u001b[38;5;28;01mFalse\u001b[39;00m):\n\u001b[1;32m     15\u001b[0m \u001b[38;5;250m    \u001b[39m\u001b[38;5;124;03m\"\"\"Return a list of paths matching a pathname pattern.\u001b[39;00m\n\u001b[1;32m     16\u001b[0m \n\u001b[1;32m     17\u001b[0m \u001b[38;5;124;03m    The pattern may contain simple shell-style wildcards a la\u001b[39;00m\n\u001b[0;32m   (...)\u001b[0m\n\u001b[1;32m     26\u001b[0m \u001b[38;5;124;03m    zero or more directories and subdirectories.\u001b[39;00m\n\u001b[1;32m     27\u001b[0m \u001b[38;5;124;03m    \"\"\"\u001b[39;00m\n\u001b[0;32m---> 28\u001b[0m     \u001b[38;5;28;01mreturn\u001b[39;00m \u001b[38;5;28mlist\u001b[39m(iglob(pathname, root_dir\u001b[38;5;241m=\u001b[39mroot_dir, dir_fd\u001b[38;5;241m=\u001b[39mdir_fd, recursive\u001b[38;5;241m=\u001b[39mrecursive,\n\u001b[1;32m     29\u001b[0m                       include_hidden\u001b[38;5;241m=\u001b[39minclude_hidden))\n",
      "File \u001b[0;32m~/anaconda3/lib/python3.11/glob.py:97\u001b[0m, in \u001b[0;36m_iglob\u001b[0;34m(pathname, root_dir, dir_fd, recursive, dironly, include_hidden)\u001b[0m\n\u001b[1;32m     95\u001b[0m     glob_in_dir \u001b[38;5;241m=\u001b[39m _glob0\n\u001b[1;32m     96\u001b[0m \u001b[38;5;28;01mfor\u001b[39;00m dirname \u001b[38;5;129;01min\u001b[39;00m dirs:\n\u001b[0;32m---> 97\u001b[0m     \u001b[38;5;28;01mfor\u001b[39;00m name \u001b[38;5;129;01min\u001b[39;00m glob_in_dir(_join(root_dir, dirname), basename, dir_fd, dironly,\n\u001b[1;32m     98\u001b[0m                            include_hidden\u001b[38;5;241m=\u001b[39minclude_hidden):\n\u001b[1;32m     99\u001b[0m         \u001b[38;5;28;01myield\u001b[39;00m os\u001b[38;5;241m.\u001b[39mpath\u001b[38;5;241m.\u001b[39mjoin(dirname, name)\n",
      "File \u001b[0;32m~/anaconda3/lib/python3.11/glob.py:106\u001b[0m, in \u001b[0;36m_glob1\u001b[0;34m(dirname, pattern, dir_fd, dironly, include_hidden)\u001b[0m\n\u001b[1;32m    105\u001b[0m \u001b[38;5;28;01mdef\u001b[39;00m \u001b[38;5;21m_glob1\u001b[39m(dirname, pattern, dir_fd, dironly, include_hidden\u001b[38;5;241m=\u001b[39m\u001b[38;5;28;01mFalse\u001b[39;00m):\n\u001b[0;32m--> 106\u001b[0m     names \u001b[38;5;241m=\u001b[39m _listdir(dirname, dir_fd, dironly)\n\u001b[1;32m    107\u001b[0m     \u001b[38;5;28;01mif\u001b[39;00m include_hidden \u001b[38;5;129;01mor\u001b[39;00m \u001b[38;5;129;01mnot\u001b[39;00m _ishidden(pattern):\n\u001b[1;32m    108\u001b[0m         names \u001b[38;5;241m=\u001b[39m (x \u001b[38;5;28;01mfor\u001b[39;00m x \u001b[38;5;129;01min\u001b[39;00m names \u001b[38;5;28;01mif\u001b[39;00m include_hidden \u001b[38;5;129;01mor\u001b[39;00m \u001b[38;5;129;01mnot\u001b[39;00m _ishidden(x))\n",
      "File \u001b[0;32m~/anaconda3/lib/python3.11/glob.py:177\u001b[0m, in \u001b[0;36m_listdir\u001b[0;34m(dirname, dir_fd, dironly)\u001b[0m\n\u001b[1;32m    175\u001b[0m \u001b[38;5;28;01mdef\u001b[39;00m \u001b[38;5;21m_listdir\u001b[39m(dirname, dir_fd, dironly):\n\u001b[1;32m    176\u001b[0m     \u001b[38;5;28;01mwith\u001b[39;00m contextlib\u001b[38;5;241m.\u001b[39mclosing(_iterdir(dirname, dir_fd, dironly)) \u001b[38;5;28;01mas\u001b[39;00m it:\n\u001b[0;32m--> 177\u001b[0m         \u001b[38;5;28;01mreturn\u001b[39;00m \u001b[38;5;28mlist\u001b[39m(it)\n",
      "File \u001b[0;32m~/anaconda3/lib/python3.11/glob.py:166\u001b[0m, in \u001b[0;36m_iterdir\u001b[0;34m(dirname, dir_fd, dironly)\u001b[0m\n\u001b[1;32m    164\u001b[0m             \u001b[38;5;28;01myield\u001b[39;00m fsencode(entry\u001b[38;5;241m.\u001b[39mname)\n\u001b[1;32m    165\u001b[0m         \u001b[38;5;28;01melse\u001b[39;00m:\n\u001b[0;32m--> 166\u001b[0m             \u001b[38;5;28;01myield\u001b[39;00m entry\u001b[38;5;241m.\u001b[39mname\n\u001b[1;32m    167\u001b[0m \u001b[38;5;28;01mexcept\u001b[39;00m \u001b[38;5;167;01mOSError\u001b[39;00m:\n\u001b[1;32m    168\u001b[0m     \u001b[38;5;28;01mpass\u001b[39;00m\n",
      "\u001b[0;31mKeyboardInterrupt\u001b[0m: "
     ]
    }
   ],
   "source": [
    "# if __name__ == '__main__':\n",
    "#     audio_dir = '/Volumes/Elemental/genre-id/songs/'\n",
    "#     output_csv = 'features.csv'\n",
    "#     num_cores = 2\n",
    "#     batch_process(audio_dir, output_csv, num_cores)"
   ]
  },
  {
   "cell_type": "code",
   "execution_count": 20,
   "id": "93c47c65-2447-41d5-a39f-f70ff191be7c",
   "metadata": {
    "tags": []
   },
   "outputs": [
    {
     "name": "stderr",
     "output_type": "stream",
     "text": [
      "\n",
      "KeyboardInterrupt\n",
      "\n"
     ]
    }
   ],
   "source": [
    "audio_dir = '/Volumes/Elemental/genre-id/songs/'\n",
    "output_csv = 'features.csv'\n",
    "batch_process(audio_dir, output_csv)"
   ]
  }
 ],
 "metadata": {
  "kernelspec": {
   "display_name": "Python 3 (ipykernel)",
   "language": "python",
   "name": "python3"
  },
  "language_info": {
   "codemirror_mode": {
    "name": "ipython",
    "version": 3
   },
   "file_extension": ".py",
   "mimetype": "text/x-python",
   "name": "python",
   "nbconvert_exporter": "python",
   "pygments_lexer": "ipython3",
   "version": "3.11.5"
  }
 },
 "nbformat": 4,
 "nbformat_minor": 5
}
