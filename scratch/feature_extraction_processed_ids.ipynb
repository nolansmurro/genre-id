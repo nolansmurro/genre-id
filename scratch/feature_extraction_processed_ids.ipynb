{
 "cells": [
  {
   "cell_type": "code",
   "execution_count": 6,
   "id": "9383e54e-8007-4bb9-8cf9-51ea03b092c6",
   "metadata": {
    "tags": []
   },
   "outputs": [],
   "source": [
    "import librosa\n",
    "import numpy as np\n",
    "import os\n",
    "import csv\n",
    "import time"
   ]
  },
  {
   "cell_type": "code",
   "execution_count": 7,
   "id": "89813b1f-8fb2-41a4-b6ea-8123f910fea5",
   "metadata": {
    "tags": []
   },
   "outputs": [],
   "source": [
    "def get_processed_song_ids(csv_file):\n",
    "    processed_song_ids = set()\n",
    "    if os.path.exists(csv_file):\n",
    "        with open(csv_file, 'r', newline='') as csvfile:\n",
    "            reader = csv.DictReader(csvfile)\n",
    "            for row in reader:\n",
    "                processed_song_ids.add(row['song_id'])\n",
    "    return processed_song_ids"
   ]
  },
  {
   "cell_type": "code",
   "execution_count": 8,
   "id": "d99a1c68-dbcc-473d-93cb-ce8edc19d3d9",
   "metadata": {
    "tags": []
   },
   "outputs": [],
   "source": [
    "def extract_features(song_path, song_id):\n",
    "    y, sr = librosa.load(song_path)\n",
    "    \n",
    "    chroma_stft = librosa.feature.chroma_stft(y=y, sr=sr) #pitch\n",
    "    mfccs = librosa.feature.mfcc(y=y, sr=sr) #spectral charecteristics and timbral information\n",
    "    spectral_centroid = librosa.feature.spectral_centroid(y=y, sr=sr) #spectrum center of mass\n",
    "    spectral_bandwidth = librosa.feature.spectral_bandwidth(y=y, sr=sr) #width of spectral envelope\n",
    "    spectral_contrast = librosa.feature.spectral_contrast(y=y, sr=sr) #spectral texture, difference in amplitude between peaks and valleys in the spectrum\n",
    "    tonnetz = librosa.feature.tonnetz(y=y, sr=sr) #tonal content and harmonic relationships\n",
    "    rms = librosa.feature.rms(y=y) #energy of the signal\n",
    "    spectral_rolloff = librosa.feature.spectral_rolloff(y=y, sr=sr) #frequency below which a certain percentage of the total spectral energy lies\n",
    "    zero_crossing_rate = librosa.feature.zero_crossing_rate(y) #rate of changes in the signal\n",
    "    tempo, beat_frames = librosa.beat.beat_track(y=y, sr=sr)\n",
    "    \n",
    "    beat_histogram = np.histogram(beat_frames, bins=len(y))\n",
    "    \n",
    "    features = {\n",
    "        'song_id': song_id,\n",
    "        'chroma_stft_mean': np.mean(chroma_stft),\n",
    "        'chroma_stft_var': np.var(chroma_stft),\n",
    "        'mfccs_mean': np.mean(mfccs),\n",
    "        'mfccs_var': np.var(mfccs),\n",
    "        'spectral_centroid_mean': np.mean(spectral_centroid),\n",
    "        'spectral_centroid_var': np.var(spectral_centroid),\n",
    "        'spectral_bandwidth_mean': np.mean(spectral_bandwidth),\n",
    "        'spectral_bandwidth_var': np.var(spectral_bandwidth),\n",
    "        'spectral_contrast_mean': np.mean(spectral_contrast),\n",
    "        'spectral_contrast_var': np.var(spectral_contrast),\n",
    "        'tonnetz_mean': np.mean(tonnetz),\n",
    "        'tonnetz_var': np.var(tonnetz),\n",
    "        'rms_mean': np.mean(rms),\n",
    "        'rms_var': np.var(rms),\n",
    "        'spectral_rolloff_mean': np.mean(spectral_rolloff),\n",
    "        'spectral_rolloff_var': np.var(spectral_rolloff),\n",
    "        'zero_crossing_rate_mean': np.mean(zero_crossing_rate),\n",
    "        'zero_crossing_rate_var': np.var(zero_crossing_rate),\n",
    "        'tempo': tempo,\n",
    "        'beat_histogram': beat_histogram[0]\n",
    "    }\n",
    "\n",
    "    return features"
   ]
  },
  {
   "cell_type": "code",
   "execution_count": 12,
   "id": "54eb1a18-5170-437b-9f90-1e56501fed36",
   "metadata": {
    "tags": []
   },
   "outputs": [],
   "source": [
    "def process_files(audio_dir, output_csv):\n",
    "    processed_song_ids = get_processed_song_ids(output_csv)\n",
    "    \n",
    "    with open(output_csv, 'a', newline='') as csvfile:\n",
    "        feature_names = [\n",
    "            'song_id', \n",
    "            'chroma_stft_mean', 'chroma_stft_var',\n",
    "            'mfccs_mean', 'mfccs_var',\n",
    "            'spectral_centroid_mean', 'spectral_centroid_var',\n",
    "            'spectral_bandwidth_mean', 'spectral_bandwidth_var',\n",
    "            'spectral_contrast_mean', 'spectral_contrast_var',\n",
    "            'tonnetz_mean', 'tonnetz_var',\n",
    "            'rms_mean', 'rms_var',\n",
    "            'spectral_rolloff_mean', 'spectral_rolloff_var',\n",
    "            'zero_crossing_rate_mean', 'zero_crossing_rate_var',\n",
    "            'tempo', 'beat_histogram'\n",
    "        ]\n",
    "        writer = csv.DictWriter(csvfile, fieldnames=feature_names)\n",
    "        if os.stat(output_csv).st_size == 0:\n",
    "            writer.writeheader()\n",
    "        \n",
    "        for root, dirs, files in os.walk(audio_dir):\n",
    "            for file in files:\n",
    "                if file.endswith(\".mp3\"):\n",
    "                    song_path = os.path.join(root, file)\n",
    "                    song_id = os.path.splitext(os.path.basename(file))[0]\n",
    "                    if song_id not in processed_song_ids:\n",
    "                        try:\n",
    "                            features = extract_features(song_path, song_id)\n",
    "                            writer.writerow(features)\n",
    "                            processed_song_ids.add(song_id)\n",
    "                        except (librosa.util.exceptions.ParameterError, ValueError) as e:\n",
    "                            print(f\"Error processing {song_path}: {e}\")"
   ]
  },
  {
   "cell_type": "code",
   "execution_count": 13,
   "id": "93c47c65-2447-41d5-a39f-f70ff191be7c",
   "metadata": {
    "tags": []
   },
   "outputs": [
    {
     "name": "stdout",
     "output_type": "stream",
     "text": [
      "Error processing /Volumes/Elemental/genre-id/songs/afro-cuban_percussion_44.mp3: can't extend empty axis 0 using modes other than 'constant' or 'empty'\n"
     ]
    },
    {
     "ename": "KeyboardInterrupt",
     "evalue": "",
     "output_type": "error",
     "traceback": [
      "\u001b[0;31m---------------------------------------------------------------------------\u001b[0m",
      "\u001b[0;31mKeyboardInterrupt\u001b[0m                         Traceback (most recent call last)",
      "Cell \u001b[0;32mIn[13], line 3\u001b[0m\n\u001b[1;32m      1\u001b[0m audio_dir \u001b[38;5;241m=\u001b[39m \u001b[38;5;124m'\u001b[39m\u001b[38;5;124m/Volumes/Elemental/genre-id/songs/\u001b[39m\u001b[38;5;124m'\u001b[39m\n\u001b[1;32m      2\u001b[0m output_csv \u001b[38;5;241m=\u001b[39m \u001b[38;5;124m'\u001b[39m\u001b[38;5;124mfeatures.csv\u001b[39m\u001b[38;5;124m'\u001b[39m\n\u001b[0;32m----> 3\u001b[0m process_files(audio_dir, output_csv)\n",
      "Cell \u001b[0;32mIn[12], line 29\u001b[0m, in \u001b[0;36mprocess_files\u001b[0;34m(audio_dir, output_csv)\u001b[0m\n\u001b[1;32m     27\u001b[0m \u001b[38;5;28;01mif\u001b[39;00m song_id \u001b[38;5;129;01mnot\u001b[39;00m \u001b[38;5;129;01min\u001b[39;00m processed_song_ids:\n\u001b[1;32m     28\u001b[0m     \u001b[38;5;28;01mtry\u001b[39;00m:\n\u001b[0;32m---> 29\u001b[0m         features \u001b[38;5;241m=\u001b[39m extract_features(song_path, song_id)\n\u001b[1;32m     30\u001b[0m         writer\u001b[38;5;241m.\u001b[39mwriterow(features)\n\u001b[1;32m     31\u001b[0m         processed_song_ids\u001b[38;5;241m.\u001b[39madd(song_id)\n",
      "Cell \u001b[0;32mIn[8], line 15\u001b[0m, in \u001b[0;36mextract_features\u001b[0;34m(song_path, song_id)\u001b[0m\n\u001b[1;32m     12\u001b[0m zero_crossing_rate \u001b[38;5;241m=\u001b[39m librosa\u001b[38;5;241m.\u001b[39mfeature\u001b[38;5;241m.\u001b[39mzero_crossing_rate(y) \u001b[38;5;66;03m#rate of changes in the signal\u001b[39;00m\n\u001b[1;32m     13\u001b[0m tempo, beat_frames \u001b[38;5;241m=\u001b[39m librosa\u001b[38;5;241m.\u001b[39mbeat\u001b[38;5;241m.\u001b[39mbeat_track(y\u001b[38;5;241m=\u001b[39my, sr\u001b[38;5;241m=\u001b[39msr)\n\u001b[0;32m---> 15\u001b[0m beat_histogram \u001b[38;5;241m=\u001b[39m np\u001b[38;5;241m.\u001b[39mhistogram(beat_frames, bins\u001b[38;5;241m=\u001b[39m\u001b[38;5;28mlen\u001b[39m(y))\n\u001b[1;32m     17\u001b[0m features \u001b[38;5;241m=\u001b[39m {\n\u001b[1;32m     18\u001b[0m     \u001b[38;5;124m'\u001b[39m\u001b[38;5;124msong_id\u001b[39m\u001b[38;5;124m'\u001b[39m: song_id,\n\u001b[1;32m     19\u001b[0m     \u001b[38;5;124m'\u001b[39m\u001b[38;5;124mchroma_stft_mean\u001b[39m\u001b[38;5;124m'\u001b[39m: np\u001b[38;5;241m.\u001b[39mmean(chroma_stft),\n\u001b[0;32m   (...)\u001b[0m\n\u001b[1;32m     38\u001b[0m     \u001b[38;5;124m'\u001b[39m\u001b[38;5;124mbeat_histogram\u001b[39m\u001b[38;5;124m'\u001b[39m: beat_histogram[\u001b[38;5;241m0\u001b[39m]\n\u001b[1;32m     39\u001b[0m }\n\u001b[1;32m     41\u001b[0m \u001b[38;5;28;01mreturn\u001b[39;00m features\n",
      "File \u001b[0;32m<__array_function__ internals>:200\u001b[0m, in \u001b[0;36mhistogram\u001b[0;34m(*args, **kwargs)\u001b[0m\n",
      "File \u001b[0;32m~/anaconda3/lib/python3.11/site-packages/numpy/lib/histograms.py:858\u001b[0m, in \u001b[0;36mhistogram\u001b[0;34m(a, bins, range, density, weights)\u001b[0m\n\u001b[1;32m    855\u001b[0m             n\u001b[38;5;241m.\u001b[39mimag \u001b[38;5;241m+\u001b[39m\u001b[38;5;241m=\u001b[39m np\u001b[38;5;241m.\u001b[39mbincount(indices, weights\u001b[38;5;241m=\u001b[39mtmp_w\u001b[38;5;241m.\u001b[39mimag,\n\u001b[1;32m    856\u001b[0m                                   minlength\u001b[38;5;241m=\u001b[39mn_equal_bins)\n\u001b[1;32m    857\u001b[0m         \u001b[38;5;28;01melse\u001b[39;00m:\n\u001b[0;32m--> 858\u001b[0m             n \u001b[38;5;241m+\u001b[39m\u001b[38;5;241m=\u001b[39m np\u001b[38;5;241m.\u001b[39mbincount(indices, weights\u001b[38;5;241m=\u001b[39mtmp_w,\n\u001b[1;32m    859\u001b[0m                              minlength\u001b[38;5;241m=\u001b[39mn_equal_bins)\u001b[38;5;241m.\u001b[39mastype(ntype)\n\u001b[1;32m    860\u001b[0m \u001b[38;5;28;01melse\u001b[39;00m:\n\u001b[1;32m    861\u001b[0m     \u001b[38;5;66;03m# Compute via cumulative histogram\u001b[39;00m\n\u001b[1;32m    862\u001b[0m     cum_n \u001b[38;5;241m=\u001b[39m np\u001b[38;5;241m.\u001b[39mzeros(bin_edges\u001b[38;5;241m.\u001b[39mshape, ntype)\n",
      "\u001b[0;31mKeyboardInterrupt\u001b[0m: "
     ]
    }
   ],
   "source": [
    "audio_dir = '/Volumes/Elemental/genre-id/songs/'\n",
    "output_csv = 'features.csv'\n",
    "process_files(audio_dir, output_csv)"
   ]
  }
 ],
 "metadata": {
  "kernelspec": {
   "display_name": "Python 3 (ipykernel)",
   "language": "python",
   "name": "python3"
  },
  "language_info": {
   "codemirror_mode": {
    "name": "ipython",
    "version": 3
   },
   "file_extension": ".py",
   "mimetype": "text/x-python",
   "name": "python",
   "nbconvert_exporter": "python",
   "pygments_lexer": "ipython3",
   "version": "3.11.5"
  }
 },
 "nbformat": 4,
 "nbformat_minor": 5
}
