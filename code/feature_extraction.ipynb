{
 "cells": [
  {
   "cell_type": "code",
   "execution_count": 1,
   "id": "9383e54e-8007-4bb9-8cf9-51ea03b092c6",
   "metadata": {
    "tags": []
   },
   "outputs": [],
   "source": [
    "import librosa\n",
    "import numpy as np\n",
    "import os\n",
    "import csv\n",
    "import time"
   ]
  },
  {
   "cell_type": "code",
   "execution_count": 2,
   "id": "9c15f5f6-7c1e-4d29-8544-e8a104f94591",
   "metadata": {
    "tags": []
   },
   "outputs": [],
   "source": [
    "def get_checkpoint(filename):\n",
    "    try:\n",
    "        with open(filename, 'r') as f:\n",
    "            return f.readline().strip()\n",
    "    except FileNotFoundError:\n",
    "        return None"
   ]
  },
  {
   "cell_type": "code",
   "execution_count": 3,
   "id": "d9f30b50-7925-42a3-913b-aa914a92079c",
   "metadata": {
    "tags": []
   },
   "outputs": [],
   "source": [
    "def save_checkpoint(filename, checkpoint):\n",
    "    with open(filename, 'w') as f:\n",
    "        f.write(checkpoint)"
   ]
  },
  {
   "cell_type": "code",
   "execution_count": 4,
   "id": "d99a1c68-dbcc-473d-93cb-ce8edc19d3d9",
   "metadata": {
    "tags": []
   },
   "outputs": [],
   "source": [
    "def extract_features(song_path, song_id):\n",
    "    y, sr = librosa.load(song_path)\n",
    "    \n",
    "    chroma_stft = librosa.feature.chroma_stft(y=y, sr=sr) #pitch\n",
    "    mfccs = librosa.feature.mfcc(y=y, sr=sr) #spectral charecteristics and timbral information\n",
    "    spectral_centroid = librosa.feature.spectral_centroid(y=y, sr=sr) #spectrum center of mass\n",
    "    spectral_bandwidth = librosa.feature.spectral_bandwidth(y=y, sr=sr) #width of spectral envelope\n",
    "    spectral_contrast = librosa.feature.spectral_contrast(y=y, sr=sr) #spectral texture, difference in amplitude between peaks and valleys in the spectrum\n",
    "    tonnetz = librosa.feature.tonnetz(y=y, sr=sr) #tonal content and harmonic relationships\n",
    "    rms = librosa.feature.rms(y=y) #energy of the signal\n",
    "    spectral_rolloff = librosa.feature.spectral_rolloff(y=y, sr=sr) #frequency below which a certain percentage of the total spectral energy lies\n",
    "    zero_crossing_rate = librosa.feature.zero_crossing_rate(y) #rate of changes in the signal\n",
    "    tempo, beat_frames = librosa.beat.beat_track(y=y, sr=sr)\n",
    "    \n",
    "    beat_histogram = np.histogram(beat_frames, bins=len(y))\n",
    "    \n",
    "    features = {\n",
    "        'song_id': song_id,\n",
    "        'chroma_stft_mean': np.mean(chroma_stft),\n",
    "        'chroma_stft_var': np.var(chroma_stft),\n",
    "        'mfccs_mean': np.mean(mfccs),\n",
    "        'mfccs_var': np.var(mfccs),\n",
    "        'spectral_centroid_mean': np.mean(spectral_centroid),\n",
    "        'spectral_centroid_var': np.var(spectral_centroid),\n",
    "        'spectral_bandwidth_mean': np.mean(spectral_bandwidth),\n",
    "        'spectral_bandwidth_var': np.var(spectral_bandwidth),\n",
    "        'spectral_contrast_mean': np.mean(spectral_contrast),\n",
    "        'spectral_contrast_var': np.var(spectral_contrast),\n",
    "        'tonnetz_mean': np.mean(tonnetz),\n",
    "        'tonnetz_var': np.var(tonnetz),\n",
    "        'rms_mean': np.mean(rms),\n",
    "        'rms_var': np.var(rms),\n",
    "        'spectral_rolloff_mean': np.mean(spectral_rolloff),\n",
    "        'spectral_rolloff_var': np.var(spectral_rolloff),\n",
    "        'zero_crossing_rate_mean': np.mean(zero_crossing_rate),\n",
    "        'zero_crossing_rate_var': np.var(zero_crossing_rate),\n",
    "        'tempo': tempo,\n",
    "        'beat_histogram': beat_histogram[0]\n",
    "    }\n",
    "\n",
    "    return features"
   ]
  },
  {
   "cell_type": "code",
   "execution_count": 5,
   "id": "54eb1a18-5170-437b-9f90-1e56501fed36",
   "metadata": {
    "tags": []
   },
   "outputs": [],
   "source": [
    "def process_files(audio_dir, output_csv, checkpoint_file):\n",
    "    last_processed_file = get_checkpoint(checkpoint_file)\n",
    "    \n",
    "    processing_started = False\n",
    "    \n",
    "    with open(output_csv, 'a', newline='') as csvfile:\n",
    "        feature_names = [\n",
    "            'song_id', \n",
    "            'chroma_stft_mean', 'chroma_stft_var',\n",
    "            'mfccs_mean', 'mfccs_var',\n",
    "            'spectral_centroid_mean', 'spectral_centroid_var',\n",
    "            'spectral_bandwidth_mean', 'spectral_bandwidth_var',\n",
    "            'spectral_contrast_mean', 'spectral_contrast_var',\n",
    "            'tonnetz_mean', 'tonnetz_var',\n",
    "            'rms_mean', 'rms_var',\n",
    "            'spectral_rolloff_mean', 'spectral_rolloff_var',\n",
    "            'zero_crossing_rate_mean', 'zero_crossing_rate_var',\n",
    "            'tempo', 'beat_histogram'\n",
    "        ]\n",
    "        writer = csv.DictWriter(csvfile, fieldnames=feature_names)\n",
    "        \n",
    "        if os.stat(output_csv).st_size == 0:\n",
    "            writer.writeheader()\n",
    "        \n",
    "        for root, dirs, files in os.walk(audio_dir):\n",
    "            for file in files:\n",
    "                if file.endswith(\".mp3\"):\n",
    "                    if not processing_started:\n",
    "                        if file == last_processed_file:\n",
    "                            processing_started = True\n",
    "                        else:\n",
    "                            continue \n",
    "                    \n",
    "                    song_path = os.path.join(root, file)\n",
    "                    song_id = os.path.splitext(os.path.basename(file))[0]\n",
    "                    \n",
    "                    save_checkpoint(checkpoint_file, file)\n",
    "                    \n",
    "                    try:\n",
    "                        features = extract_features(song_path, song_id)\n",
    "                        writer.writerow(features)\n",
    "                    except (librosa.util.exceptions.ParameterError, ValueError) as e:\n",
    "                        print(f\"Error processing {song_path}: {e}\")"
   ]
  },
  {
   "cell_type": "code",
   "execution_count": null,
   "id": "93c47c65-2447-41d5-a39f-f70ff191be7c",
   "metadata": {
    "tags": []
   },
   "outputs": [],
   "source": [
    "audio_dir = '/Volumes/Elemental/genre-id/songs/'\n",
    "output_csv = '../data/song_features.csv'\n",
    "checkpoint_file = 'logs/checkpoint.csv'\n",
    "process_files(audio_dir, output_csv, checkpoint_file)"
   ]
  }
 ],
 "metadata": {
  "kernelspec": {
   "display_name": "Python 3 (ipykernel)",
   "language": "python",
   "name": "python3"
  },
  "language_info": {
   "codemirror_mode": {
    "name": "ipython",
    "version": 3
   },
   "file_extension": ".py",
   "mimetype": "text/x-python",
   "name": "python",
   "nbconvert_exporter": "python",
   "pygments_lexer": "ipython3",
   "version": "3.11.5"
  }
 },
 "nbformat": 4,
 "nbformat_minor": 5
}
