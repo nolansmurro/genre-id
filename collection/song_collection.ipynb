{
 "cells": [
  {
   "cell_type": "code",
   "execution_count": 7,
   "id": "124ef116-73dc-4d01-b8f3-7afc928e89ea",
   "metadata": {
    "tags": []
   },
   "outputs": [],
   "source": [
    "import os\n",
    "import csv\n",
    "import requests\n",
    "import logging\n",
    "\n",
    "\n",
    "def download_songs(csv_file, output_dir, log_file='logs/downloaded_files_log.txt'):\n",
    "    downloaded_files = set()\n",
    "    \n",
    "    logging.basicConfig(filename=log_file, level=logging.INFO, format='%(asctime)s - %(message)s')\n",
    "    \n",
    "    #load already downloaded songs\n",
    "    if os.path.exists(log_file):\n",
    "        with open(log_file, 'r') as log:\n",
    "            for line in log:\n",
    "                donwloaded_files.add(line.strip())\n",
    "    \n",
    "    os.makedirs(output_dir, exist_ok=True)\n",
    "    \n",
    "    #open csv and start downloading songs\n",
    "    with open(csv_file, 'r') as url_file:\n",
    "        reader = csv.DictReader(url_file)\n",
    "        for row in reader:\n",
    "            song_id = row['song_id']\n",
    "            song_url = row['song_url']\n",
    "            output_file = os.path.join(output_dir, f\"{song_id}.mp3\")\n",
    "            \n",
    "            #Check if song has already been downloaded\n",
    "            if song_id in downloaded_files:\n",
    "                logging.info(f\"File already downloaded: {song_id}\")\n",
    "                continue\n",
    "            \n",
    "            #Download song\n",
    "            try:\n",
    "                response = requests.get(song_url)\n",
    "                response.raise_for_status()\n",
    "                with open(output_file, 'wb') as song_file:\n",
    "                    song_file.write(response.content)\n",
    "                logging.info(f\"Downloaded: {output_file}\")\n",
    "            except Exception as e:\n",
    "                logging.error(f\"Failed to download {output_file}: {e}\")\n",
    "                continue \n",
    "            \n",
    "            #Log download    \n",
    "            downloaded_files.add(song_id)\n",
    "            with open(log_file, 'a') as log:\n",
    "                log.write(song_id + '\\n')\n",
    "                \n",
    "    logging.info(\"Download completed. You now have every sound!\")"
   ]
  },
  {
   "cell_type": "code",
   "execution_count": 8,
   "id": "c36db53a-f026-4373-9a0b-82eb77090ebc",
   "metadata": {
    "tags": []
   },
   "outputs": [],
   "source": [
    "output_path = '/Volumes/Elemental/genre-id/songs/'"
   ]
  },
  {
   "cell_type": "code",
   "execution_count": 9,
   "id": "1814b3f1-30c8-4d04-991b-10cee31896ae",
   "metadata": {
    "tags": []
   },
   "outputs": [],
   "source": [
    "download_songs('songs.csv', output_path) "
   ]
  }
 ],
 "metadata": {
  "kernelspec": {
   "display_name": "Python 3 (ipykernel)",
   "language": "python",
   "name": "python3"
  },
  "language_info": {
   "codemirror_mode": {
    "name": "ipython",
    "version": 3
   },
   "file_extension": ".py",
   "mimetype": "text/x-python",
   "name": "python",
   "nbconvert_exporter": "python",
   "pygments_lexer": "ipython3",
   "version": "3.11.5"
  }
 },
 "nbformat": 4,
 "nbformat_minor": 5
}
